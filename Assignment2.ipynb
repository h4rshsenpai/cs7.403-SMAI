{
 "cells": [
  {
   "cell_type": "code",
   "execution_count": 5,
   "id": "5ad341bf-4caf-44ad-bfb1-a3e50c927a30",
   "metadata": {},
   "outputs": [],
   "source": [
    "import matplotlib.pyplot as pyplot\n",
    "import numpy as np"
   ]
  },
  {
   "cell_type": "code",
   "execution_count": 6,
   "id": "531c4b14-a0a8-4289-9905-7f9cb9a5cdbe",
   "metadata": {},
   "outputs": [],
   "source": [
    "### Question-1 \n",
    "\n",
    "#Task-1: Read up on matrix decomposition (Eigen Value Decomposition and Singular Value Decomposition) \n",
    "#Task-2: Figure out framework for writing Latex instead of Markdown in jupy\n",
    "#Task-3"
   ]
  }
 ],
 "metadata": {
  "kernelspec": {
   "display_name": "Python 3 (ipykernel)",
   "language": "python",
   "name": "python3"
  },
  "language_info": {
   "codemirror_mode": {
    "name": "ipython",
    "version": 3
   },
   "file_extension": ".py",
   "mimetype": "text/x-python",
   "name": "python",
   "nbconvert_exporter": "python",
   "pygments_lexer": "ipython3",
   "version": "3.12.2"
  }
 },
 "nbformat": 4,
 "nbformat_minor": 5
}
